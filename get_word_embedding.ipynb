{
 "cells": [
  {
   "cell_type": "code",
   "execution_count": 2,
   "metadata": {},
   "outputs": [],
   "source": [
    "import numpy as np\n",
    "import pandas as pd\n",
    "import torch\n",
    "import transformers as ppb\n",
    "import warnings\n",
    "warnings.filterwarnings('ignore')"
   ]
  },
  {
   "cell_type": "code",
   "execution_count": 4,
   "metadata": {},
   "outputs": [],
   "source": [
    "#df = pd.read_json('./train.json/train.json',lines=True)\n",
    "df = pd.read_json('./test.json/test.json',lines=True)"
   ]
  },
  {
   "cell_type": "code",
   "execution_count": 7,
   "metadata": {},
   "outputs": [
    {
     "data": {
      "text/plain": [
       "0"
      ]
     },
     "execution_count": 7,
     "metadata": {},
     "output_type": "execute_result"
    }
   ],
   "source": [
    "df['summary'].isnull().sum()"
   ]
  },
  {
   "cell_type": "code",
   "execution_count": 6,
   "metadata": {},
   "outputs": [],
   "source": [
    "# df = df[df['summary'].notna()]\n",
    "df['summary'].fillna(df['reviewText'], inplace=True)"
   ]
  },
  {
   "cell_type": "code",
   "execution_count": 12,
   "metadata": {},
   "outputs": [
    {
     "data": {
      "text/plain": [
       "0       Fantastic mix of \"old school\" with a creative ...\n",
       "1                 Digitally Extracted Stereo (DES) Rules!\n",
       "2                               Excellent unplugged album\n",
       "3                                     another masterpiece\n",
       "4                                       True Classic Rock\n",
       "                              ...                        \n",
       "9995            3 1/2 stars for a really good compilation\n",
       "9996                                          Three Stars\n",
       "9997                             Glad to have another gem\n",
       "9998                                          Three Stars\n",
       "9999          Kelly did a very good job in making that CD\n",
       "Name: summary, Length: 10000, dtype: object"
      ]
     },
     "execution_count": 12,
     "metadata": {},
     "output_type": "execute_result"
    }
   ],
   "source": [
    "#batch_1 = df[['summary','overall']]\n",
    "batch_1 = df['summary']"
   ]
  },
  {
   "cell_type": "code",
   "execution_count": 9,
   "metadata": {},
   "outputs": [],
   "source": [
    "model_class, tokenizer_class, pretrained_weights = (ppb.DistilBertModel, ppb.DistilBertTokenizer, 'distilbert-base-uncased')\n",
    "#model_class, tokenizer_class, pretrained_weights = (ppb.BertModel, ppb.BertTokenizer, 'bert-base-uncased')"
   ]
  },
  {
   "cell_type": "code",
   "execution_count": 10,
   "metadata": {},
   "outputs": [],
   "source": [
    "tokenizer = tokenizer_class.from_pretrained(pretrained_weights)\n",
    "model = model_class.from_pretrained(pretrained_weights)"
   ]
  },
  {
   "cell_type": "code",
   "execution_count": 14,
   "metadata": {},
   "outputs": [],
   "source": [
    "#tokenized = batch_1['summary'].apply((lambda x: tokenizer.encode(x, add_special_tokens=True)))\n",
    "tokenized = batch_1.apply((lambda x: tokenizer.encode(x, add_special_tokens=True,max_length = 77,pad_to_max_length = True)))"
   ]
  },
  {
   "cell_type": "code",
   "execution_count": 15,
   "metadata": {},
   "outputs": [],
   "source": [
    "max_len = 0\n",
    "for i in tokenized.values:\n",
    "    if len(i) > max_len:\n",
    "        max_len = len(i)\n",
    "\n",
    "padded = np.array([i + [0]*(max_len-len(i)) for i in tokenized.values])"
   ]
  },
  {
   "cell_type": "code",
   "execution_count": 16,
   "metadata": {},
   "outputs": [
    {
     "data": {
      "text/plain": [
       "(10000, 77)"
      ]
     },
     "execution_count": 16,
     "metadata": {},
     "output_type": "execute_result"
    }
   ],
   "source": [
    "np.array(padded).shape"
   ]
  },
  {
   "cell_type": "code",
   "execution_count": 17,
   "metadata": {},
   "outputs": [
    {
     "data": {
      "text/plain": [
       "(10000, 77)"
      ]
     },
     "execution_count": 17,
     "metadata": {},
     "output_type": "execute_result"
    }
   ],
   "source": [
    "attention_mask = np.where(padded != 0, 1, 0)\n",
    "attention_mask.shape"
   ]
  },
  {
   "cell_type": "code",
   "execution_count": 18,
   "metadata": {},
   "outputs": [
    {
     "name": "stdout",
     "output_type": "stream",
     "text": [
      "0\n",
      "(1000, 768)\n",
      "1\n",
      "(2000, 768)\n",
      "2\n",
      "(3000, 768)\n",
      "3\n",
      "(4000, 768)\n",
      "4\n",
      "(5000, 768)\n",
      "5\n",
      "(6000, 768)\n",
      "6\n",
      "(7000, 768)\n",
      "7\n",
      "(8000, 768)\n",
      "8\n",
      "(9000, 768)\n",
      "9\n",
      "(10000, 768)\n"
     ]
    }
   ],
   "source": [
    "input_ids = torch.LongTensor(padded)\n",
    "attention_mask = torch.tensor(attention_mask)\n",
    "\n",
    "with torch.no_grad():\n",
    "    for i in range(10):\n",
    "        last_hidden_states = model(input_ids[i*1000:(i+1)*1000], attention_mask=attention_mask[i*1000:(i+1)*1000])\n",
    "        if i == 0:\n",
    "            features = last_hidden_states[0][:,0,:].numpy()\n",
    "        else:\n",
    "            temp =  last_hidden_states[0][:,0,:].numpy()\n",
    "            features = np.concatenate((features, temp), axis=0)\n",
    "        print(i)\n",
    "        print(features.shape)\n",
    "        "
   ]
  },
  {
   "cell_type": "code",
   "execution_count": 20,
   "metadata": {},
   "outputs": [],
   "source": [
    "pd.DataFrame(features).to_csv('features_test.csv')"
   ]
  }
 ],
 "metadata": {
  "kernelspec": {
   "display_name": "Python 3",
   "language": "python",
   "name": "python3"
  },
  "language_info": {
   "codemirror_mode": {
    "name": "ipython",
    "version": 3
   },
   "file_extension": ".py",
   "mimetype": "text/x-python",
   "name": "python",
   "nbconvert_exporter": "python",
   "pygments_lexer": "ipython3",
   "version": "3.8.3"
  }
 },
 "nbformat": 4,
 "nbformat_minor": 4
}

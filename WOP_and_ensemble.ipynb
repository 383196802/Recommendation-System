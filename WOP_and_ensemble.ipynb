{
 "cells": [
  {
   "cell_type": "code",
   "execution_count": 1,
   "metadata": {},
   "outputs": [],
   "source": [
    "import pandas as pd\n",
    "from sklearn.model_selection import train_test_split\n",
    "import numpy as np"
   ]
  },
  {
   "cell_type": "code",
   "execution_count": 2,
   "metadata": {},
   "outputs": [],
   "source": [
    "df = pd.read_csv('features.csv')"
   ]
  },
  {
   "cell_type": "code",
   "execution_count": 3,
   "metadata": {},
   "outputs": [],
   "source": [
    "df.drop(columns=['Unnamed: 0'],inplace=True)"
   ]
  },
  {
   "cell_type": "code",
   "execution_count": 4,
   "metadata": {},
   "outputs": [],
   "source": [
    "df_train = pd.read_json('./train.json/train.json',lines=True)"
   ]
  },
  {
   "cell_type": "code",
   "execution_count": 5,
   "metadata": {},
   "outputs": [],
   "source": [
    "df_train = df_train[df_train['summary'].notna()]"
   ]
  },
  {
   "cell_type": "code",
   "execution_count": 6,
   "metadata": {},
   "outputs": [
    {
     "data": {
      "text/plain": [
       "199965"
      ]
     },
     "execution_count": 6,
     "metadata": {},
     "output_type": "execute_result"
    }
   ],
   "source": [
    "len(df_train)"
   ]
  },
  {
   "cell_type": "code",
   "execution_count": 7,
   "metadata": {},
   "outputs": [],
   "source": [
    "df_train = df_train[:len(df)]"
   ]
  },
  {
   "cell_type": "code",
   "execution_count": 9,
   "metadata": {},
   "outputs": [],
   "source": [
    "df.reset_index(drop=True, inplace=True)\n",
    "df_train.reset_index(drop=True, inplace=True)"
   ]
  },
  {
   "cell_type": "code",
   "execution_count": 30,
   "metadata": {},
   "outputs": [],
   "source": [
    "dataset = pd.concat([df, df_train[['category','price','overall','summary','reviewerID','itemID']]], axis=1) "
   ]
  },
  {
   "cell_type": "code",
   "execution_count": 31,
   "metadata": {},
   "outputs": [
    {
     "data": {
      "text/plain": [
       "199000"
      ]
     },
     "execution_count": 31,
     "metadata": {},
     "output_type": "execute_result"
    }
   ],
   "source": [
    "len(dataset)"
   ]
  },
  {
   "cell_type": "code",
   "execution_count": 32,
   "metadata": {},
   "outputs": [],
   "source": [
    "dummy = pd.get_dummies(dataset['category'], drop_first=True)"
   ]
  },
  {
   "cell_type": "code",
   "execution_count": 33,
   "metadata": {},
   "outputs": [
    {
     "data": {
      "text/plain": [
       "199000"
      ]
     },
     "execution_count": 33,
     "metadata": {},
     "output_type": "execute_result"
    }
   ],
   "source": [
    "len(dummy)"
   ]
  },
  {
   "cell_type": "code",
   "execution_count": 34,
   "metadata": {},
   "outputs": [],
   "source": [
    "dataset = pd.concat([dataset,dummy], axis=1) "
   ]
  },
  {
   "cell_type": "code",
   "execution_count": 36,
   "metadata": {},
   "outputs": [],
   "source": [
    "dataset = dataset[dataset['price'].str.startswith('$')]"
   ]
  },
  {
   "cell_type": "code",
   "execution_count": 37,
   "metadata": {},
   "outputs": [],
   "source": [
    "dataset['price'] = dataset[dataset['price'].str.startswith('$')].price.str[1:].astype(float)"
   ]
  },
  {
   "cell_type": "code",
   "execution_count": 38,
   "metadata": {},
   "outputs": [],
   "source": [
    "dataset.reset_index(drop=True, inplace=True)"
   ]
  },
  {
   "cell_type": "code",
   "execution_count": 19,
   "metadata": {},
   "outputs": [],
   "source": [
    "X = dataset.drop(columns=['overall','summary','category','reviewerID','itemID'])"
   ]
  },
  {
   "cell_type": "code",
   "execution_count": 20,
   "metadata": {},
   "outputs": [],
   "source": [
    "y = dataset['overall']"
   ]
  },
  {
   "cell_type": "code",
   "execution_count": 21,
   "metadata": {},
   "outputs": [],
   "source": [
    "X_train, X_test, y_train, y_test = train_test_split(X, y, test_size = 0.1,shuffle=False)"
   ]
  },
  {
   "cell_type": "code",
   "execution_count": 22,
   "metadata": {},
   "outputs": [
    {
     "data": {
      "text/html": [
       "<div>\n",
       "<style scoped>\n",
       "    .dataframe tbody tr th:only-of-type {\n",
       "        vertical-align: middle;\n",
       "    }\n",
       "\n",
       "    .dataframe tbody tr th {\n",
       "        vertical-align: top;\n",
       "    }\n",
       "\n",
       "    .dataframe thead th {\n",
       "        text-align: right;\n",
       "    }\n",
       "</style>\n",
       "<table border=\"1\" class=\"dataframe\">\n",
       "  <thead>\n",
       "    <tr style=\"text-align: right;\">\n",
       "      <th></th>\n",
       "      <th>0</th>\n",
       "      <th>1</th>\n",
       "      <th>2</th>\n",
       "      <th>3</th>\n",
       "      <th>4</th>\n",
       "      <th>5</th>\n",
       "      <th>6</th>\n",
       "      <th>7</th>\n",
       "      <th>8</th>\n",
       "      <th>9</th>\n",
       "      <th>...</th>\n",
       "      <th>763</th>\n",
       "      <th>764</th>\n",
       "      <th>765</th>\n",
       "      <th>766</th>\n",
       "      <th>767</th>\n",
       "      <th>price</th>\n",
       "      <th>Classical</th>\n",
       "      <th>Dance &amp; Electronic</th>\n",
       "      <th>Jazz</th>\n",
       "      <th>Pop</th>\n",
       "    </tr>\n",
       "  </thead>\n",
       "  <tbody>\n",
       "    <tr>\n",
       "      <th>0</th>\n",
       "      <td>0.161135</td>\n",
       "      <td>0.000407</td>\n",
       "      <td>-0.068433</td>\n",
       "      <td>-0.129362</td>\n",
       "      <td>-0.184148</td>\n",
       "      <td>-0.432141</td>\n",
       "      <td>0.255694</td>\n",
       "      <td>0.536445</td>\n",
       "      <td>-0.085235</td>\n",
       "      <td>-0.129654</td>\n",
       "      <td>...</td>\n",
       "      <td>0.015972</td>\n",
       "      <td>-0.018755</td>\n",
       "      <td>-0.116121</td>\n",
       "      <td>0.540379</td>\n",
       "      <td>0.267593</td>\n",
       "      <td>35.93</td>\n",
       "      <td>0</td>\n",
       "      <td>0</td>\n",
       "      <td>0</td>\n",
       "      <td>1</td>\n",
       "    </tr>\n",
       "    <tr>\n",
       "      <th>1</th>\n",
       "      <td>-0.150302</td>\n",
       "      <td>-0.159166</td>\n",
       "      <td>0.141929</td>\n",
       "      <td>-0.082894</td>\n",
       "      <td>-0.123089</td>\n",
       "      <td>-0.091947</td>\n",
       "      <td>0.099853</td>\n",
       "      <td>0.174497</td>\n",
       "      <td>-0.118698</td>\n",
       "      <td>-0.273077</td>\n",
       "      <td>...</td>\n",
       "      <td>0.039808</td>\n",
       "      <td>0.008492</td>\n",
       "      <td>-0.016914</td>\n",
       "      <td>0.196060</td>\n",
       "      <td>0.085627</td>\n",
       "      <td>11.28</td>\n",
       "      <td>0</td>\n",
       "      <td>0</td>\n",
       "      <td>0</td>\n",
       "      <td>0</td>\n",
       "    </tr>\n",
       "    <tr>\n",
       "      <th>2</th>\n",
       "      <td>0.026183</td>\n",
       "      <td>-0.100280</td>\n",
       "      <td>-0.002925</td>\n",
       "      <td>-0.088067</td>\n",
       "      <td>-0.128211</td>\n",
       "      <td>-0.096697</td>\n",
       "      <td>0.345383</td>\n",
       "      <td>0.418556</td>\n",
       "      <td>-0.041921</td>\n",
       "      <td>-0.166147</td>\n",
       "      <td>...</td>\n",
       "      <td>0.016740</td>\n",
       "      <td>0.024604</td>\n",
       "      <td>-0.037092</td>\n",
       "      <td>0.304590</td>\n",
       "      <td>0.153733</td>\n",
       "      <td>89.86</td>\n",
       "      <td>0</td>\n",
       "      <td>0</td>\n",
       "      <td>0</td>\n",
       "      <td>1</td>\n",
       "    </tr>\n",
       "    <tr>\n",
       "      <th>3</th>\n",
       "      <td>-0.275129</td>\n",
       "      <td>-0.126827</td>\n",
       "      <td>-0.015942</td>\n",
       "      <td>-0.290908</td>\n",
       "      <td>-0.078654</td>\n",
       "      <td>-0.179946</td>\n",
       "      <td>0.089550</td>\n",
       "      <td>0.259193</td>\n",
       "      <td>-0.235870</td>\n",
       "      <td>-0.367499</td>\n",
       "      <td>...</td>\n",
       "      <td>-0.030864</td>\n",
       "      <td>-0.030396</td>\n",
       "      <td>-0.081538</td>\n",
       "      <td>0.234779</td>\n",
       "      <td>0.198854</td>\n",
       "      <td>11.89</td>\n",
       "      <td>0</td>\n",
       "      <td>0</td>\n",
       "      <td>0</td>\n",
       "      <td>1</td>\n",
       "    </tr>\n",
       "    <tr>\n",
       "      <th>4</th>\n",
       "      <td>0.068014</td>\n",
       "      <td>-0.031137</td>\n",
       "      <td>-0.101309</td>\n",
       "      <td>-0.090469</td>\n",
       "      <td>-0.007553</td>\n",
       "      <td>-0.336420</td>\n",
       "      <td>0.208208</td>\n",
       "      <td>0.486158</td>\n",
       "      <td>-0.091043</td>\n",
       "      <td>-0.315945</td>\n",
       "      <td>...</td>\n",
       "      <td>0.118615</td>\n",
       "      <td>-0.270578</td>\n",
       "      <td>-0.112419</td>\n",
       "      <td>0.363581</td>\n",
       "      <td>0.132633</td>\n",
       "      <td>15.24</td>\n",
       "      <td>0</td>\n",
       "      <td>0</td>\n",
       "      <td>1</td>\n",
       "      <td>0</td>\n",
       "    </tr>\n",
       "    <tr>\n",
       "      <th>...</th>\n",
       "      <td>...</td>\n",
       "      <td>...</td>\n",
       "      <td>...</td>\n",
       "      <td>...</td>\n",
       "      <td>...</td>\n",
       "      <td>...</td>\n",
       "      <td>...</td>\n",
       "      <td>...</td>\n",
       "      <td>...</td>\n",
       "      <td>...</td>\n",
       "      <td>...</td>\n",
       "      <td>...</td>\n",
       "      <td>...</td>\n",
       "      <td>...</td>\n",
       "      <td>...</td>\n",
       "      <td>...</td>\n",
       "      <td>...</td>\n",
       "      <td>...</td>\n",
       "      <td>...</td>\n",
       "      <td>...</td>\n",
       "      <td>...</td>\n",
       "    </tr>\n",
       "    <tr>\n",
       "      <th>176653</th>\n",
       "      <td>-0.163558</td>\n",
       "      <td>-0.177608</td>\n",
       "      <td>0.007300</td>\n",
       "      <td>-0.146453</td>\n",
       "      <td>0.002007</td>\n",
       "      <td>-0.225201</td>\n",
       "      <td>0.184601</td>\n",
       "      <td>0.464533</td>\n",
       "      <td>-0.138601</td>\n",
       "      <td>-0.305808</td>\n",
       "      <td>...</td>\n",
       "      <td>-0.025221</td>\n",
       "      <td>-0.062820</td>\n",
       "      <td>-0.101833</td>\n",
       "      <td>0.296814</td>\n",
       "      <td>0.049899</td>\n",
       "      <td>16.98</td>\n",
       "      <td>0</td>\n",
       "      <td>0</td>\n",
       "      <td>1</td>\n",
       "      <td>0</td>\n",
       "    </tr>\n",
       "    <tr>\n",
       "      <th>176654</th>\n",
       "      <td>0.142340</td>\n",
       "      <td>-0.156731</td>\n",
       "      <td>0.200659</td>\n",
       "      <td>-0.062521</td>\n",
       "      <td>-0.322141</td>\n",
       "      <td>-0.235883</td>\n",
       "      <td>0.316947</td>\n",
       "      <td>0.179272</td>\n",
       "      <td>-0.059017</td>\n",
       "      <td>0.018997</td>\n",
       "      <td>...</td>\n",
       "      <td>0.047079</td>\n",
       "      <td>-0.032847</td>\n",
       "      <td>-0.116914</td>\n",
       "      <td>0.206815</td>\n",
       "      <td>0.133285</td>\n",
       "      <td>39.99</td>\n",
       "      <td>0</td>\n",
       "      <td>1</td>\n",
       "      <td>0</td>\n",
       "      <td>0</td>\n",
       "    </tr>\n",
       "    <tr>\n",
       "      <th>176655</th>\n",
       "      <td>0.038182</td>\n",
       "      <td>0.028659</td>\n",
       "      <td>0.107073</td>\n",
       "      <td>-0.175235</td>\n",
       "      <td>0.031803</td>\n",
       "      <td>-0.096688</td>\n",
       "      <td>0.198478</td>\n",
       "      <td>0.305384</td>\n",
       "      <td>-0.092591</td>\n",
       "      <td>-0.231175</td>\n",
       "      <td>...</td>\n",
       "      <td>-0.059083</td>\n",
       "      <td>-0.122240</td>\n",
       "      <td>-0.006917</td>\n",
       "      <td>0.208703</td>\n",
       "      <td>0.314089</td>\n",
       "      <td>0.97</td>\n",
       "      <td>0</td>\n",
       "      <td>0</td>\n",
       "      <td>0</td>\n",
       "      <td>1</td>\n",
       "    </tr>\n",
       "    <tr>\n",
       "      <th>176656</th>\n",
       "      <td>-0.276395</td>\n",
       "      <td>-0.227720</td>\n",
       "      <td>-0.109515</td>\n",
       "      <td>-0.106832</td>\n",
       "      <td>-0.133490</td>\n",
       "      <td>-0.023411</td>\n",
       "      <td>0.165993</td>\n",
       "      <td>0.104826</td>\n",
       "      <td>-0.132380</td>\n",
       "      <td>-0.207726</td>\n",
       "      <td>...</td>\n",
       "      <td>-0.088806</td>\n",
       "      <td>-0.086599</td>\n",
       "      <td>-0.095656</td>\n",
       "      <td>0.215206</td>\n",
       "      <td>0.288115</td>\n",
       "      <td>13.78</td>\n",
       "      <td>0</td>\n",
       "      <td>0</td>\n",
       "      <td>0</td>\n",
       "      <td>1</td>\n",
       "    </tr>\n",
       "    <tr>\n",
       "      <th>176657</th>\n",
       "      <td>0.071191</td>\n",
       "      <td>-0.346907</td>\n",
       "      <td>0.221153</td>\n",
       "      <td>0.141270</td>\n",
       "      <td>0.013916</td>\n",
       "      <td>-0.064942</td>\n",
       "      <td>0.364754</td>\n",
       "      <td>0.225654</td>\n",
       "      <td>-0.123755</td>\n",
       "      <td>-0.067261</td>\n",
       "      <td>...</td>\n",
       "      <td>0.109026</td>\n",
       "      <td>-0.135619</td>\n",
       "      <td>-0.140017</td>\n",
       "      <td>0.107601</td>\n",
       "      <td>0.143421</td>\n",
       "      <td>6.75</td>\n",
       "      <td>0</td>\n",
       "      <td>0</td>\n",
       "      <td>0</td>\n",
       "      <td>0</td>\n",
       "    </tr>\n",
       "  </tbody>\n",
       "</table>\n",
       "<p>176658 rows × 773 columns</p>\n",
       "</div>"
      ],
      "text/plain": [
       "               0         1         2         3         4         5         6  \\\n",
       "0       0.161135  0.000407 -0.068433 -0.129362 -0.184148 -0.432141  0.255694   \n",
       "1      -0.150302 -0.159166  0.141929 -0.082894 -0.123089 -0.091947  0.099853   \n",
       "2       0.026183 -0.100280 -0.002925 -0.088067 -0.128211 -0.096697  0.345383   \n",
       "3      -0.275129 -0.126827 -0.015942 -0.290908 -0.078654 -0.179946  0.089550   \n",
       "4       0.068014 -0.031137 -0.101309 -0.090469 -0.007553 -0.336420  0.208208   \n",
       "...          ...       ...       ...       ...       ...       ...       ...   \n",
       "176653 -0.163558 -0.177608  0.007300 -0.146453  0.002007 -0.225201  0.184601   \n",
       "176654  0.142340 -0.156731  0.200659 -0.062521 -0.322141 -0.235883  0.316947   \n",
       "176655  0.038182  0.028659  0.107073 -0.175235  0.031803 -0.096688  0.198478   \n",
       "176656 -0.276395 -0.227720 -0.109515 -0.106832 -0.133490 -0.023411  0.165993   \n",
       "176657  0.071191 -0.346907  0.221153  0.141270  0.013916 -0.064942  0.364754   \n",
       "\n",
       "               7         8         9  ...       763       764       765  \\\n",
       "0       0.536445 -0.085235 -0.129654  ...  0.015972 -0.018755 -0.116121   \n",
       "1       0.174497 -0.118698 -0.273077  ...  0.039808  0.008492 -0.016914   \n",
       "2       0.418556 -0.041921 -0.166147  ...  0.016740  0.024604 -0.037092   \n",
       "3       0.259193 -0.235870 -0.367499  ... -0.030864 -0.030396 -0.081538   \n",
       "4       0.486158 -0.091043 -0.315945  ...  0.118615 -0.270578 -0.112419   \n",
       "...          ...       ...       ...  ...       ...       ...       ...   \n",
       "176653  0.464533 -0.138601 -0.305808  ... -0.025221 -0.062820 -0.101833   \n",
       "176654  0.179272 -0.059017  0.018997  ...  0.047079 -0.032847 -0.116914   \n",
       "176655  0.305384 -0.092591 -0.231175  ... -0.059083 -0.122240 -0.006917   \n",
       "176656  0.104826 -0.132380 -0.207726  ... -0.088806 -0.086599 -0.095656   \n",
       "176657  0.225654 -0.123755 -0.067261  ...  0.109026 -0.135619 -0.140017   \n",
       "\n",
       "             766       767  price  Classical  Dance & Electronic  Jazz  Pop  \n",
       "0       0.540379  0.267593  35.93          0                   0     0    1  \n",
       "1       0.196060  0.085627  11.28          0                   0     0    0  \n",
       "2       0.304590  0.153733  89.86          0                   0     0    1  \n",
       "3       0.234779  0.198854  11.89          0                   0     0    1  \n",
       "4       0.363581  0.132633  15.24          0                   0     1    0  \n",
       "...          ...       ...    ...        ...                 ...   ...  ...  \n",
       "176653  0.296814  0.049899  16.98          0                   0     1    0  \n",
       "176654  0.206815  0.133285  39.99          0                   1     0    0  \n",
       "176655  0.208703  0.314089   0.97          0                   0     0    1  \n",
       "176656  0.215206  0.288115  13.78          0                   0     0    1  \n",
       "176657  0.107601  0.143421   6.75          0                   0     0    0  \n",
       "\n",
       "[176658 rows x 773 columns]"
      ]
     },
     "execution_count": 22,
     "metadata": {},
     "output_type": "execute_result"
    }
   ],
   "source": [
    "X_train"
   ]
  },
  {
   "cell_type": "code",
   "execution_count": 23,
   "metadata": {},
   "outputs": [],
   "source": [
    "from sklearn.ensemble import RandomForestRegressor"
   ]
  },
  {
   "cell_type": "code",
   "execution_count": 24,
   "metadata": {},
   "outputs": [],
   "source": [
    "regr = RandomForestRegressor(n_estimators=100, n_jobs=-1)"
   ]
  },
  {
   "cell_type": "code",
   "execution_count": 25,
   "metadata": {},
   "outputs": [
    {
     "data": {
      "text/plain": [
       "RandomForestRegressor(n_jobs=-1)"
      ]
     },
     "execution_count": 25,
     "metadata": {},
     "output_type": "execute_result"
    }
   ],
   "source": [
    "regr.fit(X_train, y_train)"
   ]
  },
  {
   "cell_type": "code",
   "execution_count": 26,
   "metadata": {},
   "outputs": [
    {
     "data": {
      "text/plain": [
       "0.6631432891548252"
      ]
     },
     "execution_count": 26,
     "metadata": {},
     "output_type": "execute_result"
    }
   ],
   "source": [
    "from sklearn.metrics import mean_squared_error\n",
    "mean_squared_error(regr.predict(X_test), y_test)"
   ]
  },
  {
   "cell_type": "code",
   "execution_count": 28,
   "metadata": {},
   "outputs": [
    {
     "data": {
      "text/plain": [
       "GradientBoostingRegressor()"
      ]
     },
     "execution_count": 28,
     "metadata": {},
     "output_type": "execute_result"
    }
   ],
   "source": [
    "from sklearn.ensemble import GradientBoostingRegressor\n",
    "gbr = GradientBoostingRegressor(n_estimators=100)\n",
    "gbr.fit(X_train, y_train)"
   ]
  },
  {
   "cell_type": "code",
   "execution_count": 29,
   "metadata": {},
   "outputs": [
    {
     "data": {
      "text/plain": [
       "0.6657552923355368"
      ]
     },
     "execution_count": 29,
     "metadata": {},
     "output_type": "execute_result"
    }
   ],
   "source": [
    "mean_squared_error(gbr.predict(X_test), y_test)"
   ]
  },
  {
   "cell_type": "code",
   "execution_count": null,
   "metadata": {},
   "outputs": [],
   "source": [
    "from transformers import BertForSequenceClassification, AdamW, BertConfig\n",
    "import torch\n",
    "import torch.nn as nn\n",
    "import pandas as pd\n",
    "device = torch.device('cuda' if torch.cuda.is_available() else 'cpu')\n",
    "model = BertForSequenceClassification.from_pretrained(\n",
    "    \"bert-base-uncased\",\n",
    "    num_labels = 1, \n",
    "    output_attentions = False, \n",
    "    output_hidden_states = False,\n",
    ")\n",
    "model.to(device)\n",
    "print('')\n",
    "model.eval()\n",
    "model.load_state_dict(torch.load('weight_2_best.pth'))\n",
    "df_test = dataset.iloc[176658:]"
   ]
  },
  {
   "cell_type": "code",
   "execution_count": null,
   "metadata": {},
   "outputs": [],
   "source": [
    "df_test['summary'] = df_test['category'] +', '+ df_test['summary']"
   ]
  },
  {
   "cell_type": "code",
   "execution_count": null,
   "metadata": {},
   "outputs": [],
   "source": [
    "from transformers import BertTokenizer\n",
    "tokenizer = BertTokenizer.from_pretrained('bert-base-uncased', do_lower_case=True)\n",
    "summary_test = df_test['summary'].values\n",
    "\n",
    "input_ids = []\n",
    "attention_masks = []\n",
    "for sent in summary_test:\n",
    "    encoded_dict = tokenizer.encode_plus(\n",
    "                        sent,                      \n",
    "                        add_special_tokens = True, \n",
    "                        max_length = 79 ,           \n",
    "                        pad_to_max_length = True,\n",
    "                        return_attention_mask = True,   \n",
    "                        return_tensors = 'pt',\n",
    "                        truncation=True\n",
    "                   )\n",
    "    input_ids.append(encoded_dict['input_ids'])\n",
    "    attention_masks.append(encoded_dict['attention_mask'])\n",
    "\n",
    "input_ids = torch.cat(input_ids, dim=0)\n",
    "attention_masks = torch.cat(attention_masks, dim=0)"
   ]
  },
  {
   "cell_type": "code",
   "execution_count": 42,
   "metadata": {},
   "outputs": [],
   "source": [
    "test_label=[]\n",
    "for in_ids, mask, in zip(input_ids, attention_masks):\n",
    "    in_ids = in_ids.to(device)\n",
    "    mask = mask.to(device)\n",
    "    logits_str = model(in_ids.unsqueeze(0), token_type_ids=None, attention_mask=mask.unsqueeze(0))[0]\n",
    "    test_label.append(logits_str.detach().cpu().numpy()[0][0])"
   ]
  },
  {
   "cell_type": "code",
   "execution_count": 43,
   "metadata": {},
   "outputs": [],
   "source": [
    "test_label = np.asarray(test_label).reshape(-1) + 1\n",
    "test_label[test_label>5] = 5\n",
    "test_label[test_label<1] = 1"
   ]
  },
  {
   "cell_type": "code",
   "execution_count": 44,
   "metadata": {},
   "outputs": [
    {
     "data": {
      "text/plain": [
       "0.48417880333057856"
      ]
     },
     "execution_count": 44,
     "metadata": {},
     "output_type": "execute_result"
    }
   ],
   "source": [
    "mean_squared_error(test_label,y_test)"
   ]
  },
  {
   "cell_type": "code",
   "execution_count": 45,
   "metadata": {},
   "outputs": [],
   "source": [
    "from surprise import Dataset\n",
    "from surprise import Reader\n",
    "from surprise import SVD\n",
    "from surprise.model_selection import GridSearchCV\n",
    "from surprise import KNNWithMeans\n",
    "from surprise import KNNBasic\n",
    "from surprise.model_selection import train_test_split\n",
    "from surprise import accuracy\n",
    "from surprise import SVDpp"
   ]
  },
  {
   "cell_type": "code",
   "execution_count": 46,
   "metadata": {},
   "outputs": [],
   "source": [
    "reader = Reader(rating_scale=(1, 5))\n",
    "data = Dataset.load_from_df(df_train[[\"reviewerID\", \"itemID\", \"overall\"]], reader)\n",
    "trainset_cf, testset_cf = train_test_split(data, test_size=.1,shuffle=False)\n",
    "svd = SVDpp(n_epochs=50,lr_all=0.007,reg_all=0.1)\n",
    "svd.fit(trainset_cf)\n",
    "df_test = dataset.iloc[176658:]\n",
    "data_test = Dataset.load_from_df(df_test[[\"reviewerID\", \"itemID\", \"overall\"]], reader)\n",
    "trainset_cf1, testset_cf1 = train_test_split(data_test, test_size=1.0,shuffle=False)\n",
    "predictions_svd = svd.test(testset_cf1)"
   ]
  },
  {
   "cell_type": "code",
   "execution_count": 49,
   "metadata": {},
   "outputs": [
    {
     "data": {
      "text/plain": [
       "0.8228861132473816"
      ]
     },
     "execution_count": 49,
     "metadata": {},
     "output_type": "execute_result"
    }
   ],
   "source": [
    "prediction_svd = np.asarray(predictions_svd)[:,3]\n",
    "mean_squared_error(prediction_svd,y_test)"
   ]
  },
  {
   "cell_type": "code",
   "execution_count": 50,
   "metadata": {},
   "outputs": [],
   "source": [
    "prediction_regr = regr.predict(X_test)\n",
    "prediction_gbr = gbr.predict(X_test)\n",
    "# prediction_svd\n",
    "# test_label\n",
    "# y_test"
   ]
  },
  {
   "cell_type": "code",
   "execution_count": 51,
   "metadata": {},
   "outputs": [],
   "source": [
    "res_df = pd.DataFrame(\n",
    "    {'regr': prediction_regr,\n",
    "     'gbr': prediction_gbr,\n",
    "     'svd': prediction_svd,\n",
    "     'bert': test_label,\n",
    "     'label': y_test\n",
    "    })"
   ]
  },
  {
   "cell_type": "code",
   "execution_count": 53,
   "metadata": {},
   "outputs": [],
   "source": [
    "#res_df.to_csv('results.csv',index=False)"
   ]
  },
  {
   "cell_type": "code",
   "execution_count": null,
   "metadata": {},
   "outputs": [],
   "source": [
    "df1 = pd.read_csv('features_test.csv')\n",
    "df1.drop(columns=['Unnamed: 0'],inplace=True)\n",
    "df_train1 = pd.read_json('./test.json/test.json',lines=True)\n",
    "len(df_train1)\n",
    "df1.reset_index(drop=True, inplace=True)\n",
    "df_train1.reset_index(drop=True, inplace=True)\n",
    "dataset1 = pd.concat([df1, df_train1[['category','price']]], axis=1)\n",
    "dummy1 = pd.get_dummies(dataset1['category'], drop_first=True)\n",
    "dataset1 = pd.concat([dataset1,dummy1], axis=1) \n",
    "dataset1.drop(columns=['category'],inplace=True)\n",
    "dataset1 = dataset1[dataset1['price'].str.startswith('$')]\n",
    "dataset1['price'] = dataset1[dataset1['price'].str.startswith('$')].price.str[1:].astype(float)"
   ]
  },
  {
   "cell_type": "code",
   "execution_count": 56,
   "metadata": {},
   "outputs": [],
   "source": [
    "predications = gbr.predict(dataset1)"
   ]
  },
  {
   "cell_type": "code",
   "execution_count": 59,
   "metadata": {},
   "outputs": [],
   "source": [
    "predications[predications>5] = 5\n",
    "predications[predications<1] = 1"
   ]
  },
  {
   "cell_type": "code",
   "execution_count": 62,
   "metadata": {},
   "outputs": [],
   "source": [
    "index = 0\n",
    "predictions = open('rating_predictions_gbr.csv', 'w')\n",
    "for l in open('rating_pairs.csv'):\n",
    "    if l.startswith('userID'):\n",
    "        #header\n",
    "        predictions.write(l)\n",
    "        continue\n",
    "    u,p = l.strip().split('-')\n",
    "    predictions.write(u + '-' + p + ',' + str(predications[index]) + '\\n')\n",
    "    index += 1"
   ]
  },
  {
   "cell_type": "code",
   "execution_count": null,
   "metadata": {},
   "outputs": [],
   "source": [
    "index"
   ]
  },
  {
   "cell_type": "code",
   "execution_count": 28,
   "metadata": {},
   "outputs": [],
   "source": [
    "from torch.utils.data import DataLoader\n",
    "from torch.utils.data import Dataset\n",
    "import torch\n",
    "import torch.nn as nn\n",
    "from torch import optim\n",
    "import torch.nn.functional as F\n",
    "from tqdm import tqdm"
   ]
  },
  {
   "cell_type": "code",
   "execution_count": 29,
   "metadata": {},
   "outputs": [],
   "source": [
    "class myDataset(Dataset):\n",
    "    def __init__(self, x, y):\n",
    "        self.x = x\n",
    "        self.y = y\n",
    "    def __len__(self):\n",
    "        return len(self.x)\n",
    "    def __getitem__(self, index):\n",
    "        x = self.x.iloc[index].values\n",
    "        y = self.y.iloc[index]\n",
    "        return x,y\n"
   ]
  },
  {
   "cell_type": "code",
   "execution_count": 30,
   "metadata": {},
   "outputs": [],
   "source": [
    "trainset = myDataset(X_train,y_train)\n",
    "trainloader = DataLoader(trainset, batch_size=64, shuffle=True)"
   ]
  },
  {
   "cell_type": "code",
   "execution_count": 31,
   "metadata": {},
   "outputs": [],
   "source": [
    "testset = myDataset(X_test,y_test)\n",
    "testloader = DataLoader(testset, batch_size=64, shuffle=True)"
   ]
  },
  {
   "cell_type": "code",
   "execution_count": 33,
   "metadata": {},
   "outputs": [],
   "source": [
    "class Net(nn.Module):\n",
    "    def __init__(self,n_input,n_output):\n",
    "        super(Net,self).__init__()\n",
    "        self.predict = nn.Linear(n_input,n_output)\n",
    "    def forward(self,input):\n",
    "        out =self.predict(input)\n",
    "\n",
    "        return out"
   ]
  },
  {
   "cell_type": "code",
   "execution_count": 34,
   "metadata": {},
   "outputs": [],
   "source": [
    "from transformers import AdamW, get_linear_schedule_with_warmup"
   ]
  },
  {
   "cell_type": "code",
   "execution_count": 35,
   "metadata": {},
   "outputs": [],
   "source": [
    "device = torch.device('cuda' if torch.cuda.is_available() else 'cpu')\n",
    "net = Net(773,1).to(device)\n",
    "#optimizer = optim.Adam(net.parameters(),0.01)\n",
    "loss_function = torch.nn.MSELoss()"
   ]
  },
  {
   "cell_type": "code",
   "execution_count": 36,
   "metadata": {},
   "outputs": [],
   "source": [
    "optimizer = AdamW(net.parameters(),\n",
    "                  lr = 2e-3, \n",
    "                  eps = 1e-8\n",
    "                )"
   ]
  },
  {
   "cell_type": "code",
   "execution_count": 37,
   "metadata": {},
   "outputs": [
    {
     "name": "stdout",
     "output_type": "stream",
     "text": [
      "start training\n"
     ]
    },
    {
     "name": "stderr",
     "output_type": "stream",
     "text": [
      "100%|██████████████████████████████████████████████████████████████████████████████| 2761/2761 [01:39<00:00, 27.63it/s]\n"
     ]
    },
    {
     "name": "stdout",
     "output_type": "stream",
     "text": [
      "Epoch: 1/10 Training Loss: 0.824\n",
      "\n",
      "Running Validation...\n"
     ]
    },
    {
     "name": "stderr",
     "output_type": "stream",
     "text": [
      "100%|████████████████████████████████████████████████████████████████████████████████| 307/307 [00:10<00:00, 30.03it/s]\n"
     ]
    },
    {
     "name": "stdout",
     "output_type": "stream",
     "text": [
      "Epoch: 1/10 Test Loss: 0.713\n",
      "start training\n"
     ]
    },
    {
     "name": "stderr",
     "output_type": "stream",
     "text": [
      "100%|██████████████████████████████████████████████████████████████████████████████| 2761/2761 [01:39<00:00, 27.85it/s]\n"
     ]
    },
    {
     "name": "stdout",
     "output_type": "stream",
     "text": [
      "Epoch: 2/10 Training Loss: 0.706\n",
      "\n",
      "Running Validation...\n"
     ]
    },
    {
     "name": "stderr",
     "output_type": "stream",
     "text": [
      "100%|████████████████████████████████████████████████████████████████████████████████| 307/307 [00:10<00:00, 28.71it/s]\n"
     ]
    },
    {
     "name": "stdout",
     "output_type": "stream",
     "text": [
      "Epoch: 2/10 Test Loss: 0.682\n",
      "start training\n"
     ]
    },
    {
     "name": "stderr",
     "output_type": "stream",
     "text": [
      "100%|██████████████████████████████████████████████████████████████████████████████| 2761/2761 [01:40<00:00, 27.56it/s]\n"
     ]
    },
    {
     "name": "stdout",
     "output_type": "stream",
     "text": [
      "Epoch: 3/10 Training Loss: 0.698\n",
      "\n",
      "Running Validation...\n"
     ]
    },
    {
     "name": "stderr",
     "output_type": "stream",
     "text": [
      "100%|████████████████████████████████████████████████████████████████████████████████| 307/307 [00:10<00:00, 30.06it/s]\n"
     ]
    },
    {
     "name": "stdout",
     "output_type": "stream",
     "text": [
      "Epoch: 3/10 Test Loss: 0.684\n",
      "start training\n"
     ]
    },
    {
     "name": "stderr",
     "output_type": "stream",
     "text": [
      "100%|██████████████████████████████████████████████████████████████████████████████| 2761/2761 [01:37<00:00, 28.28it/s]\n"
     ]
    },
    {
     "name": "stdout",
     "output_type": "stream",
     "text": [
      "Epoch: 4/10 Training Loss: 0.692\n",
      "\n",
      "Running Validation...\n"
     ]
    },
    {
     "name": "stderr",
     "output_type": "stream",
     "text": [
      "100%|████████████████████████████████████████████████████████████████████████████████| 307/307 [00:10<00:00, 30.09it/s]\n"
     ]
    },
    {
     "name": "stdout",
     "output_type": "stream",
     "text": [
      "Epoch: 4/10 Test Loss: 0.679\n",
      "start training\n"
     ]
    },
    {
     "name": "stderr",
     "output_type": "stream",
     "text": [
      "100%|██████████████████████████████████████████████████████████████████████████████| 2761/2761 [01:40<00:00, 27.40it/s]\n"
     ]
    },
    {
     "name": "stdout",
     "output_type": "stream",
     "text": [
      "Epoch: 5/10 Training Loss: 0.688\n",
      "\n",
      "Running Validation...\n"
     ]
    },
    {
     "name": "stderr",
     "output_type": "stream",
     "text": [
      "100%|████████████████████████████████████████████████████████████████████████████████| 307/307 [00:10<00:00, 29.66it/s]\n"
     ]
    },
    {
     "name": "stdout",
     "output_type": "stream",
     "text": [
      "Epoch: 5/10 Test Loss: 0.676\n",
      "start training\n"
     ]
    },
    {
     "name": "stderr",
     "output_type": "stream",
     "text": [
      "100%|██████████████████████████████████████████████████████████████████████████████| 2761/2761 [01:39<00:00, 27.63it/s]\n"
     ]
    },
    {
     "name": "stdout",
     "output_type": "stream",
     "text": [
      "Epoch: 6/10 Training Loss: 0.684\n",
      "\n",
      "Running Validation...\n"
     ]
    },
    {
     "name": "stderr",
     "output_type": "stream",
     "text": [
      "100%|████████████████████████████████████████████████████████████████████████████████| 307/307 [00:10<00:00, 30.01it/s]\n"
     ]
    },
    {
     "name": "stdout",
     "output_type": "stream",
     "text": [
      "Epoch: 6/10 Test Loss: 0.674\n",
      "start training\n"
     ]
    },
    {
     "name": "stderr",
     "output_type": "stream",
     "text": [
      "100%|██████████████████████████████████████████████████████████████████████████████| 2761/2761 [01:40<00:00, 27.46it/s]\n"
     ]
    },
    {
     "name": "stdout",
     "output_type": "stream",
     "text": [
      "Epoch: 7/10 Training Loss: 0.682\n",
      "\n",
      "Running Validation...\n"
     ]
    },
    {
     "name": "stderr",
     "output_type": "stream",
     "text": [
      "100%|████████████████████████████████████████████████████████████████████████████████| 307/307 [00:10<00:00, 29.77it/s]\n"
     ]
    },
    {
     "name": "stdout",
     "output_type": "stream",
     "text": [
      "Epoch: 7/10 Test Loss: 0.671\n",
      "start training\n"
     ]
    },
    {
     "name": "stderr",
     "output_type": "stream",
     "text": [
      "100%|██████████████████████████████████████████████████████████████████████████████| 2761/2761 [01:37<00:00, 28.21it/s]\n"
     ]
    },
    {
     "name": "stdout",
     "output_type": "stream",
     "text": [
      "Epoch: 8/10 Training Loss: 0.679\n",
      "\n",
      "Running Validation...\n"
     ]
    },
    {
     "name": "stderr",
     "output_type": "stream",
     "text": [
      "100%|████████████████████████████████████████████████████████████████████████████████| 307/307 [00:10<00:00, 29.76it/s]\n"
     ]
    },
    {
     "name": "stdout",
     "output_type": "stream",
     "text": [
      "Epoch: 8/10 Test Loss: 0.671\n",
      "start training\n"
     ]
    },
    {
     "name": "stderr",
     "output_type": "stream",
     "text": [
      "100%|██████████████████████████████████████████████████████████████████████████████| 2761/2761 [01:41<00:00, 27.23it/s]\n"
     ]
    },
    {
     "name": "stdout",
     "output_type": "stream",
     "text": [
      "Epoch: 9/10 Training Loss: 0.677\n",
      "\n",
      "Running Validation...\n"
     ]
    },
    {
     "name": "stderr",
     "output_type": "stream",
     "text": [
      "100%|████████████████████████████████████████████████████████████████████████████████| 307/307 [00:11<00:00, 26.31it/s]\n"
     ]
    },
    {
     "name": "stdout",
     "output_type": "stream",
     "text": [
      "Epoch: 9/10 Test Loss: 0.672\n",
      "start training\n"
     ]
    },
    {
     "name": "stderr",
     "output_type": "stream",
     "text": [
      "100%|██████████████████████████████████████████████████████████████████████████████| 2761/2761 [01:38<00:00, 28.01it/s]\n"
     ]
    },
    {
     "name": "stdout",
     "output_type": "stream",
     "text": [
      "Epoch: 10/10 Training Loss: 0.675\n",
      "\n",
      "Running Validation...\n"
     ]
    },
    {
     "name": "stderr",
     "output_type": "stream",
     "text": [
      "100%|████████████████████████████████████████████████████████████████████████████████| 307/307 [00:09<00:00, 33.85it/s]\n"
     ]
    },
    {
     "name": "stdout",
     "output_type": "stream",
     "text": [
      "Epoch: 10/10 Test Loss: 0.668\n"
     ]
    }
   ],
   "source": [
    "num_epoch = 10\n",
    "total_steps = len(trainloader) * num_epoch\n",
    "\n",
    "scheduler = get_linear_schedule_with_warmup(optimizer, \n",
    "                                            num_warmup_steps = 0, \n",
    "                                            num_training_steps = total_steps)\n",
    "\n",
    "for epoch in range(num_epoch):\n",
    "    print(\"start training\")\n",
    "    net.train()\n",
    "    total_train_loss = 0\n",
    "    for feature, label in tqdm(trainloader):\n",
    "        feature = feature.float().to(device)\n",
    "        label = label.float().to(device)\n",
    "        prediction = net(feature)\n",
    "        loss = loss_function(prediction, label.view(-1,1))\n",
    "        total_train_loss += loss.item()\n",
    "        optimizer.zero_grad()\n",
    "        loss.backward()\n",
    "        optimizer.step()\n",
    "        scheduler.step()\n",
    "    print(\"Epoch: {}/{}\".format(epoch+1, num_epoch),\n",
    "        \"Training Loss: {:.3f}\".format(total_train_loss/len(trainloader)))\n",
    "    \n",
    "    print(\"\")\n",
    "    print(\"Running Validation...\")\n",
    "    \n",
    "    net.eval()\n",
    "    with torch.no_grad():\n",
    "        total_eval_loss = 0\n",
    "        for feature, label in tqdm(testloader):\n",
    "            feature = feature.float().to(device)\n",
    "            label = label.float().to(device)\n",
    "            prediction = net(feature)\n",
    "            loss = loss_function(prediction, label.view(-1,1))\n",
    "            total_eval_loss += loss.item()\n",
    "        print(\"Epoch: {}/{}\".format(epoch+1, num_epoch),\n",
    "        \"Test Loss: {:.3f}\".format(total_eval_loss/len(testloader)))\n",
    "        \n",
    "    \n",
    "        "
   ]
  },
  {
   "cell_type": "code",
   "execution_count": null,
   "metadata": {},
   "outputs": [],
   "source": []
  }
 ],
 "metadata": {
  "kernelspec": {
   "display_name": "Python 3",
   "language": "python",
   "name": "python3"
  },
  "language_info": {
   "codemirror_mode": {
    "name": "ipython",
    "version": 3
   },
   "file_extension": ".py",
   "mimetype": "text/x-python",
   "name": "python",
   "nbconvert_exporter": "python",
   "pygments_lexer": "ipython3",
   "version": "3.8.3"
  }
 },
 "nbformat": 4,
 "nbformat_minor": 4
}
